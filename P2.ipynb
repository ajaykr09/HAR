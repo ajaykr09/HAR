{
  "nbformat": 4,
  "nbformat_minor": 5,
  "metadata": {
    "kernelspec": {
      "display_name": "Python 3",
      "language": "python",
      "name": "python3"
    },
    "language_info": {
      "codemirror_mode": {
        "name": "ipython",
        "version": 3
      },
      "file_extension": ".py",
      "mimetype": "text/x-python",
      "name": "python",
      "nbconvert_exporter": "python",
      "pygments_lexer": "ipython3",
      "version": "3.8.8"
    },
    "colab": {
      "name": "P2.ipynb",
      "provenance": []
    }
  },
  "cells": [
    {
      "cell_type": "markdown",
      "metadata": {
        "id": "df48c121"
      },
      "source": [
        "## Problem Definition "
      ],
      "id": "df48c121"
    },
    {
      "cell_type": "markdown",
      "metadata": {
        "id": "7114a13d"
      },
      "source": [
        "Human activity recognition, or HAR for short, is a broad field of study concerned with identifying the specific movement or action of a person based on sensor data. Movements are often typical activities performed indoors, such as walking, talking, standing, and sitting. Activity recognition is the problem of predicting the movement of a person, often indoors, based on sensor data, such as an accelerometer in a smartphone. Human activity recognition plays a significant role in human-to-human interaction and interpersonal relations. Because it provides information about the identity of a person, their personality, and psychological state, it is difficult to extract."
      ],
      "id": "7114a13d"
    },
    {
      "cell_type": "markdown",
      "metadata": {
        "id": "8efb432d"
      },
      "source": [
        "## Datasets"
      ],
      "id": "8efb432d"
    },
    {
      "cell_type": "markdown",
      "metadata": {
        "id": "acb6feef"
      },
      "source": [
        "The experiments have been carried out with a group of 30 volunteers within an age bracket. Each person performed six activities (WALKING, WALKING_UPSTAIRS, WALKING_DOWNSTAIRS, SITTING, STANDING, LAYING) wearing a smartphone on the waist. Using its embedded accelerometer and gyroscope, we captured 3-axial linear acceleration and 3-axial angular velocity.  The obtained dataset has been randomly partitioned into two sets, where 70% of the volunteers was selected for generating the training data and 30% the test data.To use various machine learning algorithms, I import SVM, Logistic Regression, K Nearest Neighbors Classifier and Random Forest Classifier from sklearn. Also, included is accuracy_score to calculate accuracy."
      ],
      "id": "acb6feef"
    },
    {
      "cell_type": "markdown",
      "metadata": {
        "id": "3c8ba890"
      },
      "source": [
        "## Prepare Data\n"
      ],
      "id": "3c8ba890"
    },
    {
      "cell_type": "code",
      "metadata": {
        "id": "8083a441"
      },
      "source": [
        "import numpy as np\n",
        "import pandas as pd\n",
        "\n",
        "import matplotlib.pyplot as plt\n",
        "import matplotlib.cm as cm\n",
        "import seaborn as sns\n",
        "\n",
        "from sklearn.svm import LinearSVC\n",
        "from sklearn.linear_model import LogisticRegression\n",
        "from sklearn.neighbors import KNeighborsClassifier\n",
        "from sklearn.tree import DecisionTreeClassifier\n",
        "from sklearn.metrics import confusion_matrix\n",
        "from sklearn.model_selection import GridSearchCV\n",
        "from sklearn import linear_model\n",
        "from sklearn import metrics\n",
        "\n",
        "from sklearn.metrics import accuracy_score"
      ],
      "id": "8083a441",
      "execution_count": null,
      "outputs": []
    },
    {
      "cell_type": "code",
      "metadata": {
        "id": "e9d7fccb"
      },
      "source": [
        "labels=['Laying', 'Sitting','Standing','Walking','Walking_Downstairs','Walking_Upstairs']"
      ],
      "id": "e9d7fccb",
      "execution_count": null,
      "outputs": []
    },
    {
      "cell_type": "code",
      "metadata": {
        "id": "3947f565"
      },
      "source": [
        "import warnings\n",
        "warnings.filterwarnings ('ignore')\n"
      ],
      "id": "3947f565",
      "execution_count": null,
      "outputs": []
    },
    {
      "cell_type": "code",
      "metadata": {
        "id": "03666a1e"
      },
      "source": [
        "df = pd.read_csv('Cleaned_data.csv')"
      ],
      "id": "03666a1e",
      "execution_count": null,
      "outputs": []
    },
    {
      "cell_type": "code",
      "metadata": {
        "scrolled": true,
        "id": "57a7df94"
      },
      "source": [
        "X = df.drop(['subject', 'Activity'], axis=1)\n",
        "y = df.Activity"
      ],
      "id": "57a7df94",
      "execution_count": null,
      "outputs": []
    },
    {
      "cell_type": "code",
      "metadata": {
        "id": "e205671a"
      },
      "source": [
        "from sklearn.model_selection import train_test_split\n",
        "X_train,X_test,y_train,y_test = train_test_split(X,y,test_size = 0.6,random_state = 1)"
      ],
      "id": "e205671a",
      "execution_count": null,
      "outputs": []
    },
    {
      "cell_type": "code",
      "metadata": {
        "scrolled": true,
        "id": "7d1ba5d9",
        "outputId": "dc5f0084-a4db-4a53-f261-96a87113f257"
      },
      "source": [
        "print(X_train.shape), print(y_train.shape)\n",
        "print(X_test.shape), print(y_test.shape)"
      ],
      "id": "7d1ba5d9",
      "execution_count": null,
      "outputs": [
        {
          "name": "stdout",
          "output_type": "stream",
          "text": [
            "(4119, 562)\n",
            "(4119,)\n",
            "(6180, 562)\n",
            "(6180,)\n"
          ]
        },
        {
          "data": {
            "text/plain": [
              "(None, None)"
            ]
          },
          "execution_count": 7,
          "metadata": {},
          "output_type": "execute_result"
        }
      ]
    },
    {
      "cell_type": "markdown",
      "metadata": {
        "id": "0a24465c"
      },
      "source": [
        "### Importing necessary libraries\n"
      ],
      "id": "0a24465c"
    },
    {
      "cell_type": "code",
      "metadata": {
        "id": "1d353f38"
      },
      "source": [
        "# Importing necessary libraries\n",
        "\n",
        "import itertools\n",
        "import numpy as np\n",
        "import matplotlib.pyplot as plt\n",
        "from sklearn.metrics import confusion_matrix\n",
        "\n",
        "%matplotlib inline"
      ],
      "id": "1d353f38",
      "execution_count": null,
      "outputs": []
    },
    {
      "cell_type": "code",
      "metadata": {
        "id": "b828ea9b"
      },
      "source": [
        "# Creating a function to print text in Bold and in given color\n",
        "\n",
        "from IPython.display import Markdown, display\n",
        "\n",
        "def printmd(string, color=None):\n",
        "    colorstr = \"<span style='color:{}'>{}</span>\".format(color, string)\n",
        "    display(Markdown(colorstr))"
      ],
      "id": "b828ea9b",
      "execution_count": null,
      "outputs": []
    },
    {
      "cell_type": "markdown",
      "metadata": {
        "id": "456d0a46"
      },
      "source": [
        "### Defining important functions used in the algorithms"
      ],
      "id": "456d0a46"
    },
    {
      "cell_type": "code",
      "metadata": {
        "id": "1833208b"
      },
      "source": [
        "# Function to plot Confusion Matrix\n",
        "\n",
        "def plot_confusion_matrix(cm, classes,\n",
        "                         normalize=False,\n",
        "                         title='Confusion Matrix',\n",
        "                         cmap = plt.cm.Blues):\n",
        "    if normalize:\n",
        "        cm = cm.astype('float') / cm.sum(axis=1)[:, np.newaxis]\n",
        "        \n",
        "    plt.imshow(cm, interpolation='nearest', cmap=cmap)\n",
        "    plt.title(title)\n",
        "    plt.colorbar()\n",
        "    tick_marks = np.arange(len(classes))\n",
        "    plt.xticks(tick_marks, classes, rotation=90)\n",
        "    plt.yticks(tick_marks, classes)\n",
        "\n",
        "    fmt = '.2f' if normalize else 'd'\n",
        "    thresh = cm.max() / 2.\n",
        "    for i, j in itertools.product(range(cm.shape[0]), range(cm.shape[1])):\n",
        "        plt.text(j, i, format(cm[i, j], fmt),\n",
        "                 horizontalalignment=\"center\",\n",
        "                 color=\"white\" if cm[i, j] > thresh else \"black\")\n",
        "\n",
        "    plt.tight_layout()\n",
        "    plt.ylabel('Actual label')\n",
        "    plt.xlabel('Predicted label')"
      ],
      "id": "1833208b",
      "execution_count": null,
      "outputs": []
    },
    {
      "cell_type": "code",
      "metadata": {
        "id": "6aad2017"
      },
      "source": [
        "# Generic function to any model\n",
        "\n",
        "from datetime import datetime\n",
        "def perform_model(model, X_train, y_train, X_test, y_test, class_labels, cm_normalize=True, \\\n",
        "                 print_cm=True, cm_cmap=plt.cm.Greens):\n",
        "    \n",
        "    \n",
        "    # Let's create an empty dictionary to be returned by the function\n",
        "    results = dict()\n",
        "    \n",
        "    # Let's calculate & print the total training time\n",
        "    \n",
        "    train_start_time = datetime.now()\n",
        "    model.fit(X_train, y_train)\n",
        "    train_end_time = datetime.now()\n",
        "    results['training_time'] =  train_end_time - train_start_time\n",
        "    printmd('Training_time(HH:MM:SS.ms) - {}'.format(results['training_time']), color='blue')\n",
        "        \n",
        "    # Let's calculate & print the test time\n",
        "    \n",
        "    test_start_time = datetime.now()\n",
        "    y_pred = model.predict(X_test)\n",
        "    test_end_time = datetime.now()\n",
        "    results['testing_time'] = test_end_time - test_start_time\n",
        "    printmd('testing time(HH:MM:SS:ms) - {}'.format(results['testing_time']), color='blue')\n",
        "    results['predicted'] = y_pred\n",
        "   \n",
        "    # Let's calculate the Accuracy of Model\n",
        "    \n",
        "    accuracy = metrics.accuracy_score(y_true=y_test, y_pred=y_pred)\n",
        "    results['accuracy'] = accuracy\n",
        "    printmd('**Accuracy:**', color='blue')\n",
        "    print('{}'.format(accuracy))\n",
        "        \n",
        "    # Let's get the Confusion Matrix\n",
        "    \n",
        "    cm = metrics.confusion_matrix(y_test, y_pred)\n",
        "    \n",
        "    # Plotting Confusion Matrix\n",
        "    \n",
        "    printmd('**Confusion Matrix:**', color='blue')\n",
        "    plt.figure(figsize=(8,8))\n",
        "    plt.grid(b=False)\n",
        "    plot_confusion_matrix(cm, classes=labels, title='Confusion matrix', cmap=plt.cm.YlGn, )\n",
        "    plt.show()\n",
        "        \n",
        "    # PLotting classification report\n",
        "    \n",
        "    printmd('**Classifiction Report**', color='blue')\n",
        "    classification_report = metrics.classification_report(y_test, y_pred)\n",
        "    results['classification_report'] = classification_report\n",
        "    print(classification_report)\n",
        "    \n",
        "    # Adding the trained model to the results\n",
        "    \n",
        "    results['model'] = model\n",
        "    \n",
        "    return results"
      ],
      "id": "6aad2017",
      "execution_count": null,
      "outputs": []
    },
    {
      "cell_type": "code",
      "metadata": {
        "id": "a458ba44"
      },
      "source": [
        "def print_grid_search_attributes(model):\n",
        "    \n",
        "    # Let's print the best estimator that gave highest score\n",
        "    \n",
        "    printmd('**Best Estimator:**', color='blue')\n",
        "    print('{}\\n'.format(model.best_estimator_))\n",
        "\n",
        "\n",
        "    # Let's print the best parameters that gave best results\n",
        "    \n",
        "    printmd('**Best parameters:**', color='blue')\n",
        "    print('{}\\n'.format(model.best_params_))\n",
        "\n",
        "\n",
        "    #  Let's print the number of cross validation splits\n",
        "    \n",
        "    printmd('**Number of CrossValidation sets:**', color='blue')\n",
        "    print('{}\\n'.format(model.n_splits_))\n",
        "\n",
        "\n",
        "    # Let's print the Best score of the best estimator\n",
        "    \n",
        "    printmd('**Best Score:**', color='blue')\n",
        "    print('{}\\n'.format(model.best_score_))"
      ],
      "id": "a458ba44",
      "execution_count": null,
      "outputs": []
    },
    {
      "cell_type": "markdown",
      "metadata": {
        "id": "66196feb"
      },
      "source": [
        "## Linear SVC"
      ],
      "id": "66196feb"
    },
    {
      "cell_type": "code",
      "metadata": {
        "scrolled": true,
        "id": "fa0d57db",
        "outputId": "a4993331-6fd3-4281-9bca-97568fe8e997"
      },
      "source": [
        "\n",
        "# Let's define the parameters to be tuned\n",
        "\n",
        "parameters = {'C':[0.25, 0.5, 1, 2, 4, 8]}\n",
        "\n",
        "# Let's initiate the model\n",
        "\n",
        "lin_svc = LinearSVC()\n",
        "lin_svc_grid = GridSearchCV(lin_svc, param_grid=parameters, verbose=1, n_jobs=-1)\n",
        "lin_svc_grid_results = perform_model(lin_svc_grid, X_train, y_train, X_test, y_test, class_labels=labels)\n",
        "\n",
        "# Printing the best attributes of the model \n",
        "\n",
        "print_grid_search_attributes(lin_svc_grid_results['model'])\n"
      ],
      "id": "fa0d57db",
      "execution_count": null,
      "outputs": [
        {
          "name": "stdout",
          "output_type": "stream",
          "text": [
            "Fitting 5 folds for each of 6 candidates, totalling 30 fits\n"
          ]
        },
        {
          "data": {
            "text/markdown": [
              "<span style='color:blue'>Training_time(HH:MM:SS.ms) - 0:06:15.183001</span>"
            ],
            "text/plain": [
              "<IPython.core.display.Markdown object>"
            ]
          },
          "metadata": {},
          "output_type": "display_data"
        },
        {
          "data": {
            "text/markdown": [
              "<span style='color:blue'>testing time(HH:MM:SS:ms) - 0:00:00.045839</span>"
            ],
            "text/plain": [
              "<IPython.core.display.Markdown object>"
            ]
          },
          "metadata": {},
          "output_type": "display_data"
        },
        {
          "data": {
            "text/markdown": [
              "<span style='color:blue'>**Accuracy:**</span>"
            ],
            "text/plain": [
              "<IPython.core.display.Markdown object>"
            ]
          },
          "metadata": {},
          "output_type": "display_data"
        },
        {
          "name": "stdout",
          "output_type": "stream",
          "text": [
            "0.7823624595469255\n"
          ]
        },
        {
          "data": {
            "text/markdown": [
              "<span style='color:blue'>**Confusion Matrix:**</span>"
            ],
            "text/plain": [
              "<IPython.core.display.Markdown object>"
            ]
          },
          "metadata": {},
          "output_type": "display_data"
        },
        {
          "data": {
            "image/png": "[encoded data removed]",
            "text/plain": [
              "<Figure size 576x576 with 2 Axes>"
            ]
          },
          "metadata": {
            "needs_background": "light"
          },
          "output_type": "display_data"
        },
        {
          "data": {
            "text/markdown": [
              "<span style='color:blue'>**Classifiction Report**</span>"
            ],
            "text/plain": [
              "<IPython.core.display.Markdown object>"
            ]
          },
          "metadata": {},
          "output_type": "display_data"
        },
        {
          "name": "stdout",
          "output_type": "stream",
          "text": [
            "              precision    recall  f1-score   support\n",
            "\n",
            "           1       0.71      0.83      0.77      1160\n",
            "           2       0.77      0.67      0.72      1071\n",
            "           3       1.00      0.47      0.64      1137\n",
            "           4       0.70      0.96      0.81      1038\n",
            "           5       0.96      0.87      0.91       850\n",
            "           6       0.75      0.96      0.84       924\n",
            "\n",
            "    accuracy                           0.78      6180\n",
            "   macro avg       0.82      0.79      0.78      6180\n",
            "weighted avg       0.81      0.78      0.77      6180\n",
            "\n"
          ]
        },
        {
          "data": {
            "text/markdown": [
              "<span style='color:blue'>**Best Estimator:**</span>"
            ],
            "text/plain": [
              "<IPython.core.display.Markdown object>"
            ]
          },
          "metadata": {},
          "output_type": "display_data"
        },
        {
          "name": "stdout",
          "output_type": "stream",
          "text": [
            "LinearSVC(C=8)\n",
            "\n"
          ]
        },
        {
          "data": {
            "text/markdown": [
              "<span style='color:blue'>**Best parameters:**</span>"
            ],
            "text/plain": [
              "<IPython.core.display.Markdown object>"
            ]
          },
          "metadata": {},
          "output_type": "display_data"
        },
        {
          "name": "stdout",
          "output_type": "stream",
          "text": [
            "{'C': 8}\n",
            "\n"
          ]
        },
        {
          "data": {
            "text/markdown": [
              "<span style='color:blue'>**Number of CrossValidation sets:**</span>"
            ],
            "text/plain": [
              "<IPython.core.display.Markdown object>"
            ]
          },
          "metadata": {},
          "output_type": "display_data"
        },
        {
          "name": "stdout",
          "output_type": "stream",
          "text": [
            "5\n",
            "\n"
          ]
        },
        {
          "data": {
            "text/markdown": [
              "<span style='color:blue'>**Best Score:**</span>"
            ],
            "text/plain": [
              "<IPython.core.display.Markdown object>"
            ]
          },
          "metadata": {},
          "output_type": "display_data"
        },
        {
          "name": "stdout",
          "output_type": "stream",
          "text": [
            "0.7671887718387618\n",
            "\n"
          ]
        }
      ]
    },
    {
      "cell_type": "markdown",
      "metadata": {
        "id": "82d6c1bf"
      },
      "source": [
        "### Decision Tree Classifier"
      ],
      "id": "82d6c1bf"
    },
    {
      "cell_type": "code",
      "metadata": {
        "scrolled": false,
        "id": "922e4a48",
        "outputId": "a3847be1-615d-42dd-895f-5a167f768ea7"
      },
      "source": [
        "#DecisionTreeClassifier\n",
        "parameters = {'max_depth':np.arange(4,10,1)}\n",
        "dtree = DecisionTreeClassifier()\n",
        "dtree_grid = GridSearchCV(dtree, param_grid=parameters, verbose=1, n_jobs=-1)\n",
        "dtree_grid_results = perform_model(dtree_grid, X_train, y_train, X_test, y_test, class_labels=labels)\n",
        "print_grid_search_attributes(dtree_grid_results['model'])"
      ],
      "id": "922e4a48",
      "execution_count": null,
      "outputs": [
        {
          "name": "stdout",
          "output_type": "stream",
          "text": [
            "Fitting 5 folds for each of 6 candidates, totalling 30 fits\n"
          ]
        },
        {
          "data": {
            "text/markdown": [
              "<span style='color:blue'>Training_time(HH:MM:SS.ms) - 0:00:07.981757</span>"
            ],
            "text/plain": [
              "<IPython.core.display.Markdown object>"
            ]
          },
          "metadata": {},
          "output_type": "display_data"
        },
        {
          "data": {
            "text/markdown": [
              "<span style='color:blue'>testing time(HH:MM:SS:ms) - 0:00:00.031223</span>"
            ],
            "text/plain": [
              "<IPython.core.display.Markdown object>"
            ]
          },
          "metadata": {},
          "output_type": "display_data"
        },
        {
          "data": {
            "text/markdown": [
              "<span style='color:blue'>**Accuracy:**</span>"
            ],
            "text/plain": [
              "<IPython.core.display.Markdown object>"
            ]
          },
          "metadata": {},
          "output_type": "display_data"
        },
        {
          "name": "stdout",
          "output_type": "stream",
          "text": [
            "0.9173139158576051\n"
          ]
        },
        {
          "data": {
            "text/markdown": [
              "<span style='color:blue'>**Confusion Matrix:**</span>"
            ],
            "text/plain": [
              "<IPython.core.display.Markdown object>"
            ]
          },
          "metadata": {},
          "output_type": "display_data"
        },
        {
          "data": {
            "image/png": "[encoded data removed]",
            "text/plain": [
              "<Figure size 576x576 with 2 Axes>"
            ]
          },
          "metadata": {
            "needs_background": "light"
          },
          "output_type": "display_data"
        },
        {
          "data": {
            "text/markdown": [
              "<span style='color:blue'>**Classifiction Report**</span>"
            ],
            "text/plain": [
              "<IPython.core.display.Markdown object>"
            ]
          },
          "metadata": {},
          "output_type": "display_data"
        },
        {
          "name": "stdout",
          "output_type": "stream",
          "text": [
            "              precision    recall  f1-score   support\n",
            "\n",
            "           1       0.88      0.90      0.89      1160\n",
            "           2       0.89      0.87      0.88      1071\n",
            "           3       1.00      1.00      1.00      1137\n",
            "           4       0.91      0.93      0.92      1038\n",
            "           5       0.93      0.92      0.92       850\n",
            "           6       0.90      0.88      0.89       924\n",
            "\n",
            "    accuracy                           0.92      6180\n",
            "   macro avg       0.92      0.92      0.92      6180\n",
            "weighted avg       0.92      0.92      0.92      6180\n",
            "\n"
          ]
        },
        {
          "data": {
            "text/markdown": [
              "<span style='color:blue'>**Best Estimator:**</span>"
            ],
            "text/plain": [
              "<IPython.core.display.Markdown object>"
            ]
          },
          "metadata": {},
          "output_type": "display_data"
        },
        {
          "name": "stdout",
          "output_type": "stream",
          "text": [
            "DecisionTreeClassifier(max_depth=9)\n",
            "\n"
          ]
        },
        {
          "data": {
            "text/markdown": [
              "<span style='color:blue'>**Best parameters:**</span>"
            ],
            "text/plain": [
              "<IPython.core.display.Markdown object>"
            ]
          },
          "metadata": {},
          "output_type": "display_data"
        },
        {
          "name": "stdout",
          "output_type": "stream",
          "text": [
            "{'max_depth': 9}\n",
            "\n"
          ]
        },
        {
          "data": {
            "text/markdown": [
              "<span style='color:blue'>**Number of CrossValidation sets:**</span>"
            ],
            "text/plain": [
              "<IPython.core.display.Markdown object>"
            ]
          },
          "metadata": {},
          "output_type": "display_data"
        },
        {
          "name": "stdout",
          "output_type": "stream",
          "text": [
            "5\n",
            "\n"
          ]
        },
        {
          "data": {
            "text/markdown": [
              "<span style='color:blue'>**Best Score:**</span>"
            ],
            "text/plain": [
              "<IPython.core.display.Markdown object>"
            ]
          },
          "metadata": {},
          "output_type": "display_data"
        },
        {
          "name": "stdout",
          "output_type": "stream",
          "text": [
            "0.9244942136866072\n",
            "\n"
          ]
        }
      ]
    },
    {
      "cell_type": "markdown",
      "metadata": {
        "id": "65fdb449"
      },
      "source": [
        "### KNN from the stratch\n"
      ],
      "id": "65fdb449"
    },
    {
      "cell_type": "code",
      "metadata": {
        "id": "5cc33bb8"
      },
      "source": [
        "import numpy as np\n",
        "import matplotlib.pyplot as plt\n",
        "from os import listdir\n",
        "from os.path import isfile, join\n",
        "from sklearn.model_selection import train_test_split\n",
        "from sklearn.metrics import *\n",
        "import pandas as pd\n",
        "from sklearn.preprocessing import LabelEncoder"
      ],
      "id": "5cc33bb8",
      "execution_count": null,
      "outputs": []
    },
    {
      "cell_type": "code",
      "metadata": {
        "id": "21328caa"
      },
      "source": [
        "def get_dist(x1, x2):\n",
        "    return np.linalg.norm(x1 - x2)\n",
        "#function for getting distance b/w 2 points"
      ],
      "id": "21328caa",
      "execution_count": null,
      "outputs": []
    },
    {
      "cell_type": "code",
      "metadata": {
        "id": "7ab8b021"
      },
      "source": [
        "def get_k_neighbours(x_train, y_train, k, x):\n",
        "    dist = []\n",
        "    for i in range(y_train.size):\n",
        "        dist.append(tuple((i, get_dist(x_train[i], x))))\n",
        "    dist.sort(key=lambda x: x[1])\n",
        "    return dist[:k+1]\n",
        "#function for getting k nearest nearest points"
      ],
      "id": "7ab8b021",
      "execution_count": null,
      "outputs": []
    },
    {
      "cell_type": "code",
      "metadata": {
        "id": "ab02a6ff"
      },
      "source": [
        "def get_pred(neighbours, y_train):\n",
        "    count_0 = 0\n",
        "    count_1 = 0\n",
        "    for i in range(len(neighbours)):\n",
        "        if y_train[neighbours[i][0]] == 0:\n",
        "            count_0+=1\n",
        "        else:\n",
        "            count_1+=1\n",
        "    return 1 if count_1>count_0 else 0\n",
        "#function to get prediction"
      ],
      "id": "ab02a6ff",
      "execution_count": null,
      "outputs": []
    },
    {
      "cell_type": "code",
      "metadata": {
        "id": "bd2d273d"
      },
      "source": [
        "def get_predictions(x_train, x_test, y_train, y_test, k):\n",
        "    y_pred = []\n",
        "    for i in range(y_test.size):\n",
        "            neighbours = get_k_neighbours(x_train, y_train, k, x_test[i])\n",
        "            y_pred.append(get_pred(neighbours, y_train))\n",
        "    return y_pred\n",
        "#function to get prediction on test set"
      ],
      "id": "bd2d273d",
      "execution_count": null,
      "outputs": []
    },
    {
      "cell_type": "code",
      "metadata": {
        "id": "0a18d123",
        "outputId": "23302cab-68a2-451f-eeee-cd75135c5aeb"
      },
      "source": [
        "df = pd.read_csv(\"Cleaned_data.csv\")\n",
        "df = df.loc[:, ~df.columns.str.contains('^Unnamed')]\n",
        "x_data = df[df.columns.difference(['Activity', 'subject'])]\n",
        "y_data = df['Activity']\n",
        "le = LabelEncoder()\n",
        "y_data = le.fit_transform(y_data)\n",
        "\n",
        "best_accuracy = 0\n",
        "accuracy_sum = 0\n",
        "best_k =  1\n",
        "for k in range(1, 27, 2):\n",
        "    x_train, x_test, y_train, y_test = train_test_split(x_data, y_data, shuffle=True, test_size = 1/3)\n",
        "    x_train = x_train.to_numpy()\n",
        "    x_test = x_test.to_numpy()\n",
        "    y_pred = get_predictions(x_train, x_test, y_train, y_test, k)\n",
        "    accuracy_sum += accuracy_score(y_test, y_pred)\n",
        "    if best_accuracy < accuracy_score(y_test, y_pred):\n",
        "        best_accuracy = accuracy_score(y_test, y_pred)\n",
        "        best_k = k\n",
        "    print(f\"Classification report of k = {k}\")\n",
        "    print(classification_report(y_test, y_pred))\n",
        "print(f\"Average accuracy = {accuracy_sum/(25/2)}\")\n",
        "print(f\"Best k = {best_k}\")\n",
        "#function to evalutate the model"
      ],
      "id": "0a18d123",
      "execution_count": null,
      "outputs": [
        {
          "name": "stdout",
          "output_type": "stream",
          "text": [
            "Classification report of k = 1\n",
            "              precision    recall  f1-score   support\n",
            "\n",
            "           0       0.86      0.97      0.91       654\n",
            "           1       0.18      0.82      0.30       594\n",
            "           2       0.00      0.00      0.00       623\n",
            "           3       0.00      0.00      0.00       593\n",
            "           4       0.00      0.00      0.00       462\n",
            "           5       0.00      0.00      0.00       507\n",
            "\n",
            "    accuracy                           0.33      3433\n",
            "   macro avg       0.17      0.30      0.20      3433\n",
            "weighted avg       0.20      0.33      0.23      3433\n",
            "\n",
            "Classification report of k = 3\n",
            "              precision    recall  f1-score   support\n",
            "\n",
            "           0       0.84      0.96      0.90       628\n",
            "           1       0.18      0.81      0.29       598\n",
            "           2       0.00      0.00      0.00       646\n",
            "           3       0.00      0.00      0.00       572\n",
            "           4       0.00      0.00      0.00       467\n",
            "           5       0.00      0.00      0.00       522\n",
            "\n",
            "    accuracy                           0.32      3433\n",
            "   macro avg       0.17      0.30      0.20      3433\n",
            "weighted avg       0.19      0.32      0.22      3433\n",
            "\n",
            "Classification report of k = 5\n",
            "              precision    recall  f1-score   support\n",
            "\n",
            "           0       0.86      0.96      0.90       638\n",
            "           1       0.18      0.83      0.30       596\n",
            "           2       0.00      0.00      0.00       668\n",
            "           3       0.00      0.00      0.00       569\n",
            "           4       0.00      0.00      0.00       473\n",
            "           5       0.00      0.00      0.00       489\n",
            "\n",
            "    accuracy                           0.32      3433\n",
            "   macro avg       0.17      0.30      0.20      3433\n",
            "weighted avg       0.19      0.32      0.22      3433\n",
            "\n",
            "Classification report of k = 7\n",
            "              precision    recall  f1-score   support\n",
            "\n",
            "           0       0.87      0.94      0.90       658\n",
            "           1       0.18      0.84      0.30       596\n",
            "           2       0.00      0.00      0.00       650\n",
            "           3       0.00      0.00      0.00       584\n",
            "           4       0.00      0.00      0.00       465\n",
            "           5       0.00      0.00      0.00       480\n",
            "\n",
            "    accuracy                           0.33      3433\n",
            "   macro avg       0.17      0.30      0.20      3433\n",
            "weighted avg       0.20      0.33      0.22      3433\n",
            "\n",
            "Classification report of k = 9\n",
            "              precision    recall  f1-score   support\n",
            "\n",
            "           0       0.87      0.94      0.90       633\n",
            "           1       0.17      0.84      0.28       558\n",
            "           2       0.00      0.00      0.00       637\n",
            "           3       0.00      0.00      0.00       601\n",
            "           4       0.00      0.00      0.00       478\n",
            "           5       0.00      0.00      0.00       526\n",
            "\n",
            "    accuracy                           0.31      3433\n",
            "   macro avg       0.17      0.30      0.20      3433\n",
            "weighted avg       0.19      0.31      0.21      3433\n",
            "\n",
            "Classification report of k = 11\n",
            "              precision    recall  f1-score   support\n",
            "\n",
            "           0       0.87      0.96      0.91       601\n",
            "           1       0.17      0.85      0.29       563\n",
            "           2       0.00      0.00      0.00       670\n",
            "           3       0.00      0.00      0.00       587\n",
            "           4       0.00      0.00      0.00       501\n",
            "           5       0.00      0.00      0.00       511\n",
            "\n",
            "    accuracy                           0.31      3433\n",
            "   macro avg       0.17      0.30      0.20      3433\n",
            "weighted avg       0.18      0.31      0.21      3433\n",
            "\n",
            "Classification report of k = 13\n",
            "              precision    recall  f1-score   support\n",
            "\n",
            "           0       0.87      0.96      0.91       640\n",
            "           1       0.19      0.85      0.31       615\n",
            "           2       0.00      0.00      0.00       634\n",
            "           3       0.00      0.00      0.00       545\n",
            "           4       0.00      0.00      0.00       485\n",
            "           5       0.00      0.00      0.00       514\n",
            "\n",
            "    accuracy                           0.33      3433\n",
            "   macro avg       0.18      0.30      0.20      3433\n",
            "weighted avg       0.20      0.33      0.23      3433\n",
            "\n",
            "Classification report of k = 15\n",
            "              precision    recall  f1-score   support\n",
            "\n",
            "           0       0.85      0.94      0.89       594\n",
            "           1       0.18      0.83      0.29       592\n",
            "           2       0.00      0.00      0.00       673\n",
            "           3       0.00      0.00      0.00       576\n",
            "           4       0.00      0.00      0.00       477\n",
            "           5       0.00      0.00      0.00       521\n",
            "\n",
            "    accuracy                           0.31      3433\n",
            "   macro avg       0.17      0.30      0.20      3433\n",
            "weighted avg       0.18      0.31      0.20      3433\n",
            "\n",
            "Classification report of k = 17\n",
            "              precision    recall  f1-score   support\n",
            "\n",
            "           0       0.86      0.90      0.88       633\n",
            "           1       0.18      0.84      0.30       598\n",
            "           2       0.00      0.00      0.00       630\n",
            "           3       0.00      0.00      0.00       561\n",
            "           4       0.00      0.00      0.00       482\n",
            "           5       0.00      0.00      0.00       529\n",
            "\n",
            "    accuracy                           0.31      3433\n",
            "   macro avg       0.17      0.29      0.20      3433\n",
            "weighted avg       0.19      0.31      0.21      3433\n",
            "\n",
            "Classification report of k = 19\n",
            "              precision    recall  f1-score   support\n",
            "\n",
            "           0       0.84      0.93      0.88       613\n",
            "           1       0.17      0.81      0.28       576\n",
            "           2       0.00      0.00      0.00       644\n",
            "           3       0.00      0.00      0.00       593\n",
            "           4       0.00      0.00      0.00       488\n",
            "           5       0.00      0.00      0.00       519\n",
            "\n",
            "    accuracy                           0.30      3433\n",
            "   macro avg       0.17      0.29      0.19      3433\n",
            "weighted avg       0.18      0.30      0.20      3433\n",
            "\n",
            "Classification report of k = 21\n",
            "              precision    recall  f1-score   support\n",
            "\n",
            "           0       0.83      0.95      0.89       632\n",
            "           1       0.19      0.81      0.30       623\n",
            "           2       0.00      0.00      0.00       640\n",
            "           3       0.00      0.00      0.00       561\n",
            "           4       0.00      0.00      0.00       469\n",
            "           5       0.00      0.00      0.00       508\n",
            "\n",
            "    accuracy                           0.32      3433\n",
            "   macro avg       0.17      0.29      0.20      3433\n",
            "weighted avg       0.19      0.32      0.22      3433\n",
            "\n",
            "Classification report of k = 23\n",
            "              precision    recall  f1-score   support\n",
            "\n",
            "           0       0.87      0.93      0.90       630\n",
            "           1       0.17      0.84      0.28       563\n",
            "           2       0.00      0.00      0.00       685\n",
            "           3       0.00      0.00      0.00       555\n",
            "           4       0.00      0.00      0.00       483\n",
            "           5       0.00      0.00      0.00       517\n",
            "\n",
            "    accuracy                           0.31      3433\n",
            "   macro avg       0.17      0.30      0.20      3433\n",
            "weighted avg       0.19      0.31      0.21      3433\n",
            "\n",
            "Classification report of k = 25\n",
            "              precision    recall  f1-score   support\n",
            "\n",
            "           0       0.87      0.92      0.89       637\n",
            "           1       0.17      0.84      0.29       569\n",
            "           2       0.00      0.00      0.00       648\n",
            "           3       0.00      0.00      0.00       580\n",
            "           4       0.00      0.00      0.00       493\n",
            "           5       0.00      0.00      0.00       506\n",
            "\n",
            "    accuracy                           0.31      3433\n",
            "   macro avg       0.17      0.29      0.20      3433\n",
            "weighted avg       0.19      0.31      0.21      3433\n",
            "\n",
            "Average accuracy = 0.3278298863967376\n",
            "Best k = 13\n"
          ]
        }
      ]
    },
    {
      "cell_type": "code",
      "metadata": {
        "scrolled": false,
        "id": "2410d772",
        "outputId": "ccb3f055-bc5b-45fb-f49f-a8484f178f18"
      },
      "source": [
        "print('\\n                     Accuracy     Error')\n",
        "print('                     ----------   --------')\n",
        "print('Linear SVC          : {:.04}%       {:.04}% '.format(lin_svc_grid_results['accuracy'] * 100,\\\n",
        "                                                        100-(lin_svc_grid_results['accuracy'] * 100)))\n",
        "print('Decision Tree       : {:.04}%      {:.04}% '.format(dtree_grid_results['accuracy'] * 100,\\\n",
        "                                                        100-(dtree_grid_results['accuracy'] * 100)))\n"
      ],
      "id": "2410d772",
      "execution_count": null,
      "outputs": [
        {
          "name": "stdout",
          "output_type": "stream",
          "text": [
            "\n",
            "                     Accuracy     Error\n",
            "                     ----------   --------\n",
            "Linear SVC          : 78.24%       21.76% \n",
            "Decision Tree       : 91.73%      8.269% \n"
          ]
        }
      ]
    },
    {
      "cell_type": "code",
      "metadata": {
        "id": "5f5b8f82"
      },
      "source": [
        "skf_results = pd.DataFrame([['Decision Tree', 0.84,0.86,0.85,0.83]],\n",
        "               columns = ['Model', 'Accuracy', 'Precision', 'Recall', 'F1 Score'])\n",
        "\n",
        "skf_model = pd.DataFrame([['Linear SVM', 0.92,0.92,0.92,0.92]],\n",
        "               columns = ['Model', 'Accuracy', 'Precision', 'Recall', 'F1 Score'])\n",
        "skf_results = skf_results.append(skf_model, ignore_index = True)\n",
        "\n",
        "skf_model = pd.DataFrame([['KNN', 0.33,0.18,0.30,0.20]],\n",
        "               columns = ['Model', 'Accuracy', 'Precision', 'Recall', 'F1 Score'])\n",
        "skf_results = skf_results.append(skf_model, ignore_index = True)"
      ],
      "id": "5f5b8f82",
      "execution_count": null,
      "outputs": []
    },
    {
      "cell_type": "code",
      "metadata": {
        "id": "a063207a",
        "outputId": "217dd2f2-4869-4e34-bd85-11051b5b28df"
      },
      "source": [
        "skf_results"
      ],
      "id": "a063207a",
      "execution_count": null,
      "outputs": [
        {
          "data": {
            "text/html": [
              "<div>\n",
              "<style scoped>\n",
              "    .dataframe tbody tr th:only-of-type {\n",
              "        vertical-align: middle;\n",
              "    }\n",
              "\n",
              "    .dataframe tbody tr th {\n",
              "        vertical-align: top;\n",
              "    }\n",
              "\n",
              "    .dataframe thead th {\n",
              "        text-align: right;\n",
              "    }\n",
              "</style>\n",
              "<table border=\"1\" class=\"dataframe\">\n",
              "  <thead>\n",
              "    <tr style=\"text-align: right;\">\n",
              "      <th></th>\n",
              "      <th>Model</th>\n",
              "      <th>Accuracy</th>\n",
              "      <th>Precision</th>\n",
              "      <th>Recall</th>\n",
              "      <th>F1 Score</th>\n",
              "    </tr>\n",
              "  </thead>\n",
              "  <tbody>\n",
              "    <tr>\n",
              "      <th>0</th>\n",
              "      <td>Decision Tree</td>\n",
              "      <td>0.84</td>\n",
              "      <td>0.86</td>\n",
              "      <td>0.85</td>\n",
              "      <td>0.83</td>\n",
              "    </tr>\n",
              "    <tr>\n",
              "      <th>1</th>\n",
              "      <td>Linear SVM</td>\n",
              "      <td>0.92</td>\n",
              "      <td>0.92</td>\n",
              "      <td>0.92</td>\n",
              "      <td>0.92</td>\n",
              "    </tr>\n",
              "    <tr>\n",
              "      <th>2</th>\n",
              "      <td>KNN</td>\n",
              "      <td>0.33</td>\n",
              "      <td>0.18</td>\n",
              "      <td>0.30</td>\n",
              "      <td>0.20</td>\n",
              "    </tr>\n",
              "  </tbody>\n",
              "</table>\n",
              "</div>"
            ],
            "text/plain": [
              "           Model  Accuracy  Precision  Recall  F1 Score\n",
              "0  Decision Tree      0.84       0.86    0.85      0.83\n",
              "1     Linear SVM      0.92       0.92    0.92      0.92\n",
              "2            KNN      0.33       0.18    0.30      0.20"
            ]
          },
          "execution_count": 25,
          "metadata": {},
          "output_type": "execute_result"
        }
      ]
    },
    {
      "cell_type": "code",
      "metadata": {
        "id": "027a20dd",
        "outputId": "870a0884-8c88-45f7-b340-35611dad2be6"
      },
      "source": [
        "import pandas as pd\n",
        " \n",
        "import matplotlib.pyplot as plt\n",
        "plt.bar(x=skf_results['Model'],\n",
        " \n",
        "        height=skf_results['Accuracy'],\n",
        "       color='bym')"
      ],
      "id": "027a20dd",
      "execution_count": null,
      "outputs": [
        {
          "data": {
            "text/plain": [
              "<BarContainer object of 3 artists>"
            ]
          },
          "execution_count": 28,
          "metadata": {},
          "output_type": "execute_result"
        },
        {
          "data": {
            "image/png": "[encoded data removed]",
            "text/plain": [
              "<Figure size 432x288 with 1 Axes>"
            ]
          },
          "metadata": {
            "needs_background": "light"
          },
          "output_type": "display_data"
        }
      ]
    }
  ]
}