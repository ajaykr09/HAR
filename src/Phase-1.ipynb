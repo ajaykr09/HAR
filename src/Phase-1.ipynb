{
  "cells": [
    {
      "cell_type": "code",
      "execution_count": null,
      "id": "1009eb19",
      "metadata": {
        "id": "1009eb19"
      },
      "outputs": [],
      "source": [
        "#Ajay 19303 CSE-D"
      ]
    },
    {
      "cell_type": "markdown",
      "id": "2fe7ba27",
      "metadata": {
        "id": "2fe7ba27"
      },
      "source": [
        "# Data Loading"
      ]
    },
    {
      "cell_type": "code",
      "execution_count": null,
      "id": "afcfdf47",
      "metadata": {
        "id": "afcfdf47"
      },
      "outputs": [],
      "source": [
        "import numpy as np\n",
        "import pandas as pd\n",
        "\n",
        "import matplotlib.pyplot as plt\n",
        "import matplotlib.cm as cm\n",
        "import seaborn as sns\n",
        "%matplotlib inline\n",
        "\n",
        "from sklearn.svm import SVC\n",
        "from sklearn.linear_model import LogisticRegression\n",
        "from sklearn.neighbors import KNeighborsClassifier\n",
        "from sklearn.ensemble import RandomForestClassifier\n",
        "\n",
        "from sklearn.metrics import accuracy_score"
      ]
    },
    {
      "cell_type": "code",
      "execution_count": null,
      "id": "071cf3b8",
      "metadata": {
        "id": "071cf3b8",
        "outputId": "d0f70796-f5ba-4d7d-f990-0a1c2027b364"
      },
      "outputs": [
        {
          "name": "stdout",
          "output_type": "stream",
          "text": [
            "      tBodyAcc-mean()-X  tBodyAcc-mean()-Y  tBodyAcc-mean()-Z  \\\n",
            "0              0.288585          -0.020294          -0.132905   \n",
            "1              0.278419          -0.016411          -0.123520   \n",
            "2              0.279653          -0.019467          -0.113462   \n",
            "3              0.279174          -0.026201          -0.123283   \n",
            "4              0.276629          -0.016570          -0.115362   \n",
            "...                 ...                ...                ...   \n",
            "2942           0.310155          -0.053391          -0.099109   \n",
            "2943           0.363385          -0.039214          -0.105915   \n",
            "2944           0.349966           0.030077          -0.115788   \n",
            "2945           0.237594           0.018467          -0.096499   \n",
            "2946           0.153627          -0.018437          -0.137018   \n",
            "\n",
            "      tBodyAcc-std()-X  tBodyAcc-std()-Y  tBodyAcc-std()-Z  tBodyAcc-mad()-X  \\\n",
            "0            -0.995279         -0.983111         -0.913526         -0.995112   \n",
            "1            -0.998245         -0.975300         -0.960322         -0.998807   \n",
            "2            -0.995380         -0.967187         -0.978944         -0.996520   \n",
            "3            -0.996091         -0.983403         -0.990675         -0.997099   \n",
            "4            -0.998139         -0.980817         -0.990482         -0.998321   \n",
            "...                ...               ...               ...               ...   \n",
            "2942         -0.287866         -0.140589         -0.215088         -0.356083   \n",
            "2943         -0.305388          0.028148         -0.196373         -0.373540   \n",
            "2944         -0.329638         -0.042143         -0.250181         -0.388017   \n",
            "2945         -0.323114         -0.229775         -0.207574         -0.392380   \n",
            "2946         -0.330046         -0.195253         -0.164339         -0.430974   \n",
            "\n",
            "      tBodyAcc-mad()-Y  tBodyAcc-mad()-Z  tBodyAcc-max()-X  ...  \\\n",
            "0            -0.983185         -0.923527         -0.934724  ...   \n",
            "1            -0.974914         -0.957686         -0.943068  ...   \n",
            "2            -0.963668         -0.977469         -0.938692  ...   \n",
            "3            -0.982750         -0.989302         -0.938692  ...   \n",
            "4            -0.979672         -0.990441         -0.942469  ...   \n",
            "...                ...               ...               ...  ...   \n",
            "2942         -0.148775         -0.232057          0.185361  ...   \n",
            "2943         -0.030036         -0.270237          0.185361  ...   \n",
            "2944         -0.133257         -0.347029          0.007471  ...   \n",
            "2945         -0.279610         -0.289477          0.007471  ...   \n",
            "2946         -0.218295         -0.229933         -0.111527  ...   \n",
            "\n",
            "      fBodyBodyGyroJerkMag-kurtosis()  angle(tBodyAccMean,gravity)  \\\n",
            "0                           -0.710304                    -0.112754   \n",
            "1                           -0.861499                     0.053477   \n",
            "2                           -0.760104                    -0.118559   \n",
            "3                           -0.482845                    -0.036788   \n",
            "4                           -0.699205                     0.123320   \n",
            "...                               ...                          ...   \n",
            "2942                        -0.750809                    -0.337422   \n",
            "2943                        -0.700274                    -0.736701   \n",
            "2944                        -0.467179                    -0.181560   \n",
            "2945                        -0.617737                     0.444558   \n",
            "2946                        -0.436940                     0.598808   \n",
            "\n",
            "      angle(tBodyAccJerkMean),gravityMean)  angle(tBodyGyroMean,gravityMean)  \\\n",
            "0                                 0.030400                         -0.464761   \n",
            "1                                -0.007435                         -0.732626   \n",
            "2                                 0.177899                          0.100699   \n",
            "3                                -0.012892                          0.640011   \n",
            "4                                 0.122542                          0.693578   \n",
            "...                                    ...                               ...   \n",
            "2942                              0.346295                          0.884904   \n",
            "2943                             -0.372889                         -0.657421   \n",
            "2944                              0.088574                          0.696663   \n",
            "2945                             -0.819188                          0.929294   \n",
            "2946                             -0.287951                          0.876030   \n",
            "\n",
            "      angle(tBodyGyroJerkMean,gravityMean)  angle(X,gravityMean)  \\\n",
            "0                                -0.018446             -0.841247   \n",
            "1                                 0.703511             -0.844788   \n",
            "2                                 0.808529             -0.848933   \n",
            "3                                -0.485366             -0.848649   \n",
            "4                                -0.615971             -0.847865   \n",
            "...                                    ...                   ...   \n",
            "2942                             -0.698885             -0.651732   \n",
            "2943                              0.322549             -0.655181   \n",
            "2944                              0.363139             -0.655357   \n",
            "2945                             -0.008398             -0.659719   \n",
            "2946                             -0.024965             -0.660080   \n",
            "\n",
            "      angle(Y,gravityMean)  angle(Z,gravityMean)  subject          Activity  \n",
            "0                 0.179941             -0.058627        1          STANDING  \n",
            "1                 0.180289             -0.054317        1          STANDING  \n",
            "2                 0.180637             -0.049118        1          STANDING  \n",
            "3                 0.181935             -0.047663        1          STANDING  \n",
            "4                 0.185151             -0.043892        1          STANDING  \n",
            "...                    ...                   ...      ...               ...  \n",
            "2942              0.274627              0.184784       24  WALKING_UPSTAIRS  \n",
            "2943              0.273578              0.182412       24  WALKING_UPSTAIRS  \n",
            "2944              0.274479              0.181184       24  WALKING_UPSTAIRS  \n",
            "2945              0.264782              0.187563       24  WALKING_UPSTAIRS  \n",
            "2946              0.263936              0.188103       24  WALKING_UPSTAIRS  \n",
            "\n",
            "[10299 rows x 563 columns]\n"
          ]
        }
      ],
      "source": [
        "#Merging training and test data sets.\n",
        "df1 = pd.read_csv(\"train.csv\")\n",
        "df2 = pd.read_csv(\"test.csv\")\n",
        "\n",
        "df1.dataframeName = 'train.csv'\n",
        "df2.dataframeName = 'test.csv'\n",
        "\n",
        "# df1[\"source\"] = \"train\"\n",
        "# df2[\"source\"] = \"test\"\n",
        "#adding new col to specify which dataset the entry belongs to\n",
        "\n",
        "df = pd.concat([df1,df2])\n",
        "print(df)\n",
        "#combining datasets and reading data"
      ]
    },
    {
      "cell_type": "code",
      "execution_count": null,
      "id": "93980895",
      "metadata": {
        "scrolled": false,
        "id": "93980895"
      },
      "outputs": [],
      "source": [
        "df.to_csv('Final.csv')\n",
        "#Saving the test+training dataset into a csv called Final."
      ]
    },
    {
      "cell_type": "code",
      "execution_count": null,
      "id": "6e566b1f",
      "metadata": {
        "scrolled": true,
        "id": "6e566b1f",
        "outputId": "5522d1a1-b0c3-4855-d807-2fc5ba2d4567"
      },
      "outputs": [
        {
          "data": {
            "text/plain": [
              "tBodyAcc-mean()-X       float64\n",
              "tBodyAcc-mean()-Y       float64\n",
              "tBodyAcc-mean()-Z       float64\n",
              "tBodyAcc-std()-X        float64\n",
              "tBodyAcc-std()-Y        float64\n",
              "                         ...   \n",
              "angle(X,gravityMean)    float64\n",
              "angle(Y,gravityMean)    float64\n",
              "angle(Z,gravityMean)    float64\n",
              "subject                   int64\n",
              "Activity                 object\n",
              "Length: 563, dtype: object"
            ]
          },
          "execution_count": 8,
          "metadata": {},
          "output_type": "execute_result"
        }
      ],
      "source": [
        "df.dtypes"
      ]
    },
    {
      "cell_type": "code",
      "execution_count": null,
      "id": "26e50ae7",
      "metadata": {
        "id": "26e50ae7"
      },
      "outputs": [],
      "source": [
        "map = {'STANDING': 1, 'SITTING':2, 'LAYING':3, 'WALKING':4, 'WALKING_DOWNSTAIRS':5, 'WALKING_UPSTAIRS':6}\n",
        "#this will map activity values to numerical values\n",
        "target_feature = 'Activity'\n",
        "df[target_feature] = df[target_feature].map(map)"
      ]
    },
    {
      "cell_type": "code",
      "execution_count": null,
      "id": "f53a56fc",
      "metadata": {
        "id": "f53a56fc",
        "outputId": "5658d54b-44e2-4048-9927-b101be120f2a"
      },
      "outputs": [
        {
          "data": {
            "text/plain": [
              "tBodyAcc-mean()-X       float64\n",
              "tBodyAcc-mean()-Y       float64\n",
              "tBodyAcc-mean()-Z       float64\n",
              "tBodyAcc-std()-X        float64\n",
              "tBodyAcc-std()-Y        float64\n",
              "                         ...   \n",
              "angle(X,gravityMean)    float64\n",
              "angle(Y,gravityMean)    float64\n",
              "angle(Z,gravityMean)    float64\n",
              "subject                   int64\n",
              "Activity                  int64\n",
              "Length: 563, dtype: object"
            ]
          },
          "execution_count": 10,
          "metadata": {},
          "output_type": "execute_result"
        }
      ],
      "source": [
        "df.dtypes"
      ]
    },
    {
      "cell_type": "code",
      "execution_count": null,
      "id": "7da4f2f3",
      "metadata": {
        "id": "7da4f2f3",
        "outputId": "e6470322-6ccf-428e-a273-0e2cfbaceb13"
      },
      "outputs": [
        {
          "data": {
            "text/html": [
              "<div>\n",
              "<style scoped>\n",
              "    .dataframe tbody tr th:only-of-type {\n",
              "        vertical-align: middle;\n",
              "    }\n",
              "\n",
              "    .dataframe tbody tr th {\n",
              "        vertical-align: top;\n",
              "    }\n",
              "\n",
              "    .dataframe thead th {\n",
              "        text-align: right;\n",
              "    }\n",
              "</style>\n",
              "<table border=\"1\" class=\"dataframe\">\n",
              "  <thead>\n",
              "    <tr style=\"text-align: right;\">\n",
              "      <th></th>\n",
              "      <th>Total</th>\n",
              "      <th>Percent</th>\n",
              "    </tr>\n",
              "  </thead>\n",
              "  <tbody>\n",
              "    <tr>\n",
              "      <th>tBodyAcc-mean()-X</th>\n",
              "      <td>0</td>\n",
              "      <td>0.0</td>\n",
              "    </tr>\n",
              "    <tr>\n",
              "      <th>fBodyAccJerk-kurtosis()-Y</th>\n",
              "      <td>0</td>\n",
              "      <td>0.0</td>\n",
              "    </tr>\n",
              "    <tr>\n",
              "      <th>fBodyAccJerk-meanFreq()-X</th>\n",
              "      <td>0</td>\n",
              "      <td>0.0</td>\n",
              "    </tr>\n",
              "    <tr>\n",
              "      <th>fBodyAccJerk-meanFreq()-Y</th>\n",
              "      <td>0</td>\n",
              "      <td>0.0</td>\n",
              "    </tr>\n",
              "    <tr>\n",
              "      <th>fBodyAccJerk-meanFreq()-Z</th>\n",
              "      <td>0</td>\n",
              "      <td>0.0</td>\n",
              "    </tr>\n",
              "    <tr>\n",
              "      <th>...</th>\n",
              "      <td>...</td>\n",
              "      <td>...</td>\n",
              "    </tr>\n",
              "    <tr>\n",
              "      <th>tBodyGyroJerk-iqr()-Z</th>\n",
              "      <td>0</td>\n",
              "      <td>0.0</td>\n",
              "    </tr>\n",
              "    <tr>\n",
              "      <th>tBodyGyroJerk-iqr()-Y</th>\n",
              "      <td>0</td>\n",
              "      <td>0.0</td>\n",
              "    </tr>\n",
              "    <tr>\n",
              "      <th>tBodyGyroJerk-iqr()-X</th>\n",
              "      <td>0</td>\n",
              "      <td>0.0</td>\n",
              "    </tr>\n",
              "    <tr>\n",
              "      <th>tBodyGyroJerk-energy()-Z</th>\n",
              "      <td>0</td>\n",
              "      <td>0.0</td>\n",
              "    </tr>\n",
              "    <tr>\n",
              "      <th>Activity</th>\n",
              "      <td>0</td>\n",
              "      <td>0.0</td>\n",
              "    </tr>\n",
              "  </tbody>\n",
              "</table>\n",
              "<p>563 rows × 2 columns</p>\n",
              "</div>"
            ],
            "text/plain": [
              "                           Total  Percent\n",
              "tBodyAcc-mean()-X              0      0.0\n",
              "fBodyAccJerk-kurtosis()-Y      0      0.0\n",
              "fBodyAccJerk-meanFreq()-X      0      0.0\n",
              "fBodyAccJerk-meanFreq()-Y      0      0.0\n",
              "fBodyAccJerk-meanFreq()-Z      0      0.0\n",
              "...                          ...      ...\n",
              "tBodyGyroJerk-iqr()-Z          0      0.0\n",
              "tBodyGyroJerk-iqr()-Y          0      0.0\n",
              "tBodyGyroJerk-iqr()-X          0      0.0\n",
              "tBodyGyroJerk-energy()-Z       0      0.0\n",
              "Activity                       0      0.0\n",
              "\n",
              "[563 rows x 2 columns]"
            ]
          },
          "execution_count": 11,
          "metadata": {},
          "output_type": "execute_result"
        }
      ],
      "source": [
        "# Checking any null values are present in the data\n",
        "# No missing values are there\n",
        "total = df.isnull().sum().sort_values(ascending = False)\n",
        "percent = (df.isnull().sum()/df.isnull().count()*100).sort_values(ascending = False)\n",
        "pd.concat([total, percent], axis=1, keys=['Total', 'Percent'])\n"
      ]
    },
    {
      "cell_type": "markdown",
      "id": "c67d4067",
      "metadata": {
        "id": "c67d4067"
      },
      "source": [
        "# Standardization of the Data"
      ]
    },
    {
      "cell_type": "code",
      "execution_count": null,
      "id": "9a8f1965",
      "metadata": {
        "scrolled": false,
        "id": "9a8f1965",
        "outputId": "a33e77da-4846-484b-db3d-89ddf7e5500e"
      },
      "outputs": [
        {
          "data": {
            "text/html": [
              "<div>\n",
              "<style scoped>\n",
              "    .dataframe tbody tr th:only-of-type {\n",
              "        vertical-align: middle;\n",
              "    }\n",
              "\n",
              "    .dataframe tbody tr th {\n",
              "        vertical-align: top;\n",
              "    }\n",
              "\n",
              "    .dataframe thead th {\n",
              "        text-align: right;\n",
              "    }\n",
              "</style>\n",
              "<table border=\"1\" class=\"dataframe\">\n",
              "  <thead>\n",
              "    <tr style=\"text-align: right;\">\n",
              "      <th></th>\n",
              "      <th>tBodyAcc-mean()-X</th>\n",
              "      <th>tBodyAcc-mean()-Y</th>\n",
              "      <th>tBodyAcc-mean()-Z</th>\n",
              "      <th>tBodyAcc-std()-X</th>\n",
              "      <th>tBodyAcc-std()-Y</th>\n",
              "      <th>tBodyAcc-std()-Z</th>\n",
              "      <th>tBodyAcc-mad()-X</th>\n",
              "      <th>tBodyAcc-mad()-Y</th>\n",
              "      <th>tBodyAcc-mad()-Z</th>\n",
              "      <th>tBodyAcc-max()-X</th>\n",
              "      <th>...</th>\n",
              "      <th>fBodyBodyGyroJerkMag-kurtosis()</th>\n",
              "      <th>angle(tBodyAccMean,gravity)</th>\n",
              "      <th>angle(tBodyAccJerkMean),gravityMean)</th>\n",
              "      <th>angle(tBodyGyroMean,gravityMean)</th>\n",
              "      <th>angle(tBodyGyroJerkMean,gravityMean)</th>\n",
              "      <th>angle(X,gravityMean)</th>\n",
              "      <th>angle(Y,gravityMean)</th>\n",
              "      <th>angle(Z,gravityMean)</th>\n",
              "      <th>subject</th>\n",
              "      <th>Activity</th>\n",
              "    </tr>\n",
              "  </thead>\n",
              "  <tbody>\n",
              "    <tr>\n",
              "      <th>0</th>\n",
              "      <td>0.210534</td>\n",
              "      <td>-0.068703</td>\n",
              "      <td>-0.452195</td>\n",
              "      <td>-0.883335</td>\n",
              "      <td>-0.945431</td>\n",
              "      <td>-0.744387</td>\n",
              "      <td>-0.874687</td>\n",
              "      <td>-0.944877</td>\n",
              "      <td>-0.773250</td>\n",
              "      <td>-0.868773</td>\n",
              "      <td>...</td>\n",
              "      <td>-0.299902</td>\n",
              "      <td>-0.357898</td>\n",
              "      <td>0.062039</td>\n",
              "      <td>-0.782988</td>\n",
              "      <td>-0.019034</td>\n",
              "      <td>-0.674432</td>\n",
              "      <td>0.382008</td>\n",
              "      <td>-0.016151</td>\n",
              "      <td>-1.745252</td>\n",
              "      <td>-1.389282</td>\n",
              "    </tr>\n",
              "    <tr>\n",
              "      <th>1</th>\n",
              "      <td>0.060208</td>\n",
              "      <td>0.035902</td>\n",
              "      <td>-0.275222</td>\n",
              "      <td>-0.890098</td>\n",
              "      <td>-0.929817</td>\n",
              "      <td>-0.860322</td>\n",
              "      <td>-0.883627</td>\n",
              "      <td>-0.927796</td>\n",
              "      <td>-0.858859</td>\n",
              "      <td>-0.884263</td>\n",
              "      <td>...</td>\n",
              "      <td>-0.789555</td>\n",
              "      <td>0.135993</td>\n",
              "      <td>-0.022538</td>\n",
              "      <td>-1.217721</td>\n",
              "      <td>1.470315</td>\n",
              "      <td>-0.681360</td>\n",
              "      <td>0.383148</td>\n",
              "      <td>-0.000121</td>\n",
              "      <td>-1.745252</td>\n",
              "      <td>-1.389282</td>\n",
              "    </tr>\n",
              "    <tr>\n",
              "      <th>2</th>\n",
              "      <td>0.078460</td>\n",
              "      <td>-0.046427</td>\n",
              "      <td>-0.085548</td>\n",
              "      <td>-0.883565</td>\n",
              "      <td>-0.913598</td>\n",
              "      <td>-0.906457</td>\n",
              "      <td>-0.878093</td>\n",
              "      <td>-0.904569</td>\n",
              "      <td>-0.908437</td>\n",
              "      <td>-0.876139</td>\n",
              "      <td>...</td>\n",
              "      <td>-0.461181</td>\n",
              "      <td>-0.375145</td>\n",
              "      <td>0.391762</td>\n",
              "      <td>0.134732</td>\n",
              "      <td>1.686961</td>\n",
              "      <td>-0.689471</td>\n",
              "      <td>0.384289</td>\n",
              "      <td>0.019214</td>\n",
              "      <td>-1.745252</td>\n",
              "      <td>-1.389282</td>\n",
              "    </tr>\n",
              "    <tr>\n",
              "      <th>3</th>\n",
              "      <td>0.071375</td>\n",
              "      <td>-0.227794</td>\n",
              "      <td>-0.270741</td>\n",
              "      <td>-0.885188</td>\n",
              "      <td>-0.946015</td>\n",
              "      <td>-0.935521</td>\n",
              "      <td>-0.879495</td>\n",
              "      <td>-0.943980</td>\n",
              "      <td>-0.938095</td>\n",
              "      <td>-0.876139</td>\n",
              "      <td>...</td>\n",
              "      <td>0.436736</td>\n",
              "      <td>-0.132194</td>\n",
              "      <td>-0.034739</td>\n",
              "      <td>1.010013</td>\n",
              "      <td>-0.982261</td>\n",
              "      <td>-0.688915</td>\n",
              "      <td>0.388536</td>\n",
              "      <td>0.024624</td>\n",
              "      <td>-1.745252</td>\n",
              "      <td>-1.389282</td>\n",
              "    </tr>\n",
              "    <tr>\n",
              "      <th>4</th>\n",
              "      <td>0.033738</td>\n",
              "      <td>0.031617</td>\n",
              "      <td>-0.121380</td>\n",
              "      <td>-0.889855</td>\n",
              "      <td>-0.940846</td>\n",
              "      <td>-0.935041</td>\n",
              "      <td>-0.882451</td>\n",
              "      <td>-0.937622</td>\n",
              "      <td>-0.940948</td>\n",
              "      <td>-0.883152</td>\n",
              "      <td>...</td>\n",
              "      <td>-0.263958</td>\n",
              "      <td>0.343504</td>\n",
              "      <td>0.268015</td>\n",
              "      <td>1.096950</td>\n",
              "      <td>-1.251689</td>\n",
              "      <td>-0.687381</td>\n",
              "      <td>0.399066</td>\n",
              "      <td>0.038649</td>\n",
              "      <td>-1.745252</td>\n",
              "      <td>-1.389282</td>\n",
              "    </tr>\n",
              "  </tbody>\n",
              "</table>\n",
              "<p>5 rows × 563 columns</p>\n",
              "</div>"
            ],
            "text/plain": [
              "   tBodyAcc-mean()-X  tBodyAcc-mean()-Y  tBodyAcc-mean()-Z  tBodyAcc-std()-X  \\\n",
              "0           0.210534          -0.068703          -0.452195         -0.883335   \n",
              "1           0.060208           0.035902          -0.275222         -0.890098   \n",
              "2           0.078460          -0.046427          -0.085548         -0.883565   \n",
              "3           0.071375          -0.227794          -0.270741         -0.885188   \n",
              "4           0.033738           0.031617          -0.121380         -0.889855   \n",
              "\n",
              "   tBodyAcc-std()-Y  tBodyAcc-std()-Z  tBodyAcc-mad()-X  tBodyAcc-mad()-Y  \\\n",
              "0         -0.945431         -0.744387         -0.874687         -0.944877   \n",
              "1         -0.929817         -0.860322         -0.883627         -0.927796   \n",
              "2         -0.913598         -0.906457         -0.878093         -0.904569   \n",
              "3         -0.946015         -0.935521         -0.879495         -0.943980   \n",
              "4         -0.940846         -0.935041         -0.882451         -0.937622   \n",
              "\n",
              "   tBodyAcc-mad()-Z  tBodyAcc-max()-X  ...  fBodyBodyGyroJerkMag-kurtosis()  \\\n",
              "0         -0.773250         -0.868773  ...                        -0.299902   \n",
              "1         -0.858859         -0.884263  ...                        -0.789555   \n",
              "2         -0.908437         -0.876139  ...                        -0.461181   \n",
              "3         -0.938095         -0.876139  ...                         0.436736   \n",
              "4         -0.940948         -0.883152  ...                        -0.263958   \n",
              "\n",
              "   angle(tBodyAccMean,gravity)  angle(tBodyAccJerkMean),gravityMean)  \\\n",
              "0                    -0.357898                              0.062039   \n",
              "1                     0.135993                             -0.022538   \n",
              "2                    -0.375145                              0.391762   \n",
              "3                    -0.132194                             -0.034739   \n",
              "4                     0.343504                              0.268015   \n",
              "\n",
              "   angle(tBodyGyroMean,gravityMean)  angle(tBodyGyroJerkMean,gravityMean)  \\\n",
              "0                         -0.782988                             -0.019034   \n",
              "1                         -1.217721                              1.470315   \n",
              "2                          0.134732                              1.686961   \n",
              "3                          1.010013                             -0.982261   \n",
              "4                          1.096950                             -1.251689   \n",
              "\n",
              "   angle(X,gravityMean)  angle(Y,gravityMean)  angle(Z,gravityMean)   subject  \\\n",
              "0             -0.674432              0.382008             -0.016151 -1.745252   \n",
              "1             -0.681360              0.383148             -0.000121 -1.745252   \n",
              "2             -0.689471              0.384289              0.019214 -1.745252   \n",
              "3             -0.688915              0.388536              0.024624 -1.745252   \n",
              "4             -0.687381              0.399066              0.038649 -1.745252   \n",
              "\n",
              "   Activity  \n",
              "0 -1.389282  \n",
              "1 -1.389282  \n",
              "2 -1.389282  \n",
              "3 -1.389282  \n",
              "4 -1.389282  \n",
              "\n",
              "[5 rows x 563 columns]"
            ]
          },
          "execution_count": 12,
          "metadata": {},
          "output_type": "execute_result"
        }
      ],
      "source": [
        "from sklearn import preprocessing\n",
        "std_scale = preprocessing.StandardScaler().fit_transform(df)\n",
        "data_df = pd.DataFrame(std_scale, columns=df.columns)\n",
        "data_df.head()\n"
      ]
    },
    {
      "cell_type": "markdown",
      "id": "b2f5effd",
      "metadata": {
        "id": "b2f5effd"
      },
      "source": [
        "# Data Summerization"
      ]
    },
    {
      "cell_type": "code",
      "execution_count": null,
      "id": "ad44ccf8",
      "metadata": {
        "id": "ad44ccf8",
        "outputId": "f53db405-f1a1-42c3-9752-a6b52133d595"
      },
      "outputs": [
        {
          "data": {
            "text/plain": [
              "<bound method NDFrame.head of       tBodyAcc-mean()-X  tBodyAcc-mean()-Y  tBodyAcc-mean()-Z  \\\n",
              "0              0.288585          -0.020294          -0.132905   \n",
              "1              0.278419          -0.016411          -0.123520   \n",
              "2              0.279653          -0.019467          -0.113462   \n",
              "3              0.279174          -0.026201          -0.123283   \n",
              "4              0.276629          -0.016570          -0.115362   \n",
              "...                 ...                ...                ...   \n",
              "2942           0.310155          -0.053391          -0.099109   \n",
              "2943           0.363385          -0.039214          -0.105915   \n",
              "2944           0.349966           0.030077          -0.115788   \n",
              "2945           0.237594           0.018467          -0.096499   \n",
              "2946           0.153627          -0.018437          -0.137018   \n",
              "\n",
              "      tBodyAcc-std()-X  tBodyAcc-std()-Y  tBodyAcc-std()-Z  tBodyAcc-mad()-X  \\\n",
              "0            -0.995279         -0.983111         -0.913526         -0.995112   \n",
              "1            -0.998245         -0.975300         -0.960322         -0.998807   \n",
              "2            -0.995380         -0.967187         -0.978944         -0.996520   \n",
              "3            -0.996091         -0.983403         -0.990675         -0.997099   \n",
              "4            -0.998139         -0.980817         -0.990482         -0.998321   \n",
              "...                ...               ...               ...               ...   \n",
              "2942         -0.287866         -0.140589         -0.215088         -0.356083   \n",
              "2943         -0.305388          0.028148         -0.196373         -0.373540   \n",
              "2944         -0.329638         -0.042143         -0.250181         -0.388017   \n",
              "2945         -0.323114         -0.229775         -0.207574         -0.392380   \n",
              "2946         -0.330046         -0.195253         -0.164339         -0.430974   \n",
              "\n",
              "      tBodyAcc-mad()-Y  tBodyAcc-mad()-Z  tBodyAcc-max()-X  ...  \\\n",
              "0            -0.983185         -0.923527         -0.934724  ...   \n",
              "1            -0.974914         -0.957686         -0.943068  ...   \n",
              "2            -0.963668         -0.977469         -0.938692  ...   \n",
              "3            -0.982750         -0.989302         -0.938692  ...   \n",
              "4            -0.979672         -0.990441         -0.942469  ...   \n",
              "...                ...               ...               ...  ...   \n",
              "2942         -0.148775         -0.232057          0.185361  ...   \n",
              "2943         -0.030036         -0.270237          0.185361  ...   \n",
              "2944         -0.133257         -0.347029          0.007471  ...   \n",
              "2945         -0.279610         -0.289477          0.007471  ...   \n",
              "2946         -0.218295         -0.229933         -0.111527  ...   \n",
              "\n",
              "      fBodyBodyGyroJerkMag-kurtosis()  angle(tBodyAccMean,gravity)  \\\n",
              "0                           -0.710304                    -0.112754   \n",
              "1                           -0.861499                     0.053477   \n",
              "2                           -0.760104                    -0.118559   \n",
              "3                           -0.482845                    -0.036788   \n",
              "4                           -0.699205                     0.123320   \n",
              "...                               ...                          ...   \n",
              "2942                        -0.750809                    -0.337422   \n",
              "2943                        -0.700274                    -0.736701   \n",
              "2944                        -0.467179                    -0.181560   \n",
              "2945                        -0.617737                     0.444558   \n",
              "2946                        -0.436940                     0.598808   \n",
              "\n",
              "      angle(tBodyAccJerkMean),gravityMean)  angle(tBodyGyroMean,gravityMean)  \\\n",
              "0                                 0.030400                         -0.464761   \n",
              "1                                -0.007435                         -0.732626   \n",
              "2                                 0.177899                          0.100699   \n",
              "3                                -0.012892                          0.640011   \n",
              "4                                 0.122542                          0.693578   \n",
              "...                                    ...                               ...   \n",
              "2942                              0.346295                          0.884904   \n",
              "2943                             -0.372889                         -0.657421   \n",
              "2944                              0.088574                          0.696663   \n",
              "2945                             -0.819188                          0.929294   \n",
              "2946                             -0.287951                          0.876030   \n",
              "\n",
              "      angle(tBodyGyroJerkMean,gravityMean)  angle(X,gravityMean)  \\\n",
              "0                                -0.018446             -0.841247   \n",
              "1                                 0.703511             -0.844788   \n",
              "2                                 0.808529             -0.848933   \n",
              "3                                -0.485366             -0.848649   \n",
              "4                                -0.615971             -0.847865   \n",
              "...                                    ...                   ...   \n",
              "2942                             -0.698885             -0.651732   \n",
              "2943                              0.322549             -0.655181   \n",
              "2944                              0.363139             -0.655357   \n",
              "2945                             -0.008398             -0.659719   \n",
              "2946                             -0.024965             -0.660080   \n",
              "\n",
              "      angle(Y,gravityMean)  angle(Z,gravityMean)  subject  Activity  \n",
              "0                 0.179941             -0.058627        1         1  \n",
              "1                 0.180289             -0.054317        1         1  \n",
              "2                 0.180637             -0.049118        1         1  \n",
              "3                 0.181935             -0.047663        1         1  \n",
              "4                 0.185151             -0.043892        1         1  \n",
              "...                    ...                   ...      ...       ...  \n",
              "2942              0.274627              0.184784       24         6  \n",
              "2943              0.273578              0.182412       24         6  \n",
              "2944              0.274479              0.181184       24         6  \n",
              "2945              0.264782              0.187563       24         6  \n",
              "2946              0.263936              0.188103       24         6  \n",
              "\n",
              "[10299 rows x 563 columns]>"
            ]
          },
          "execution_count": 13,
          "metadata": {},
          "output_type": "execute_result"
        }
      ],
      "source": [
        "df.head"
      ]
    },
    {
      "cell_type": "code",
      "execution_count": null,
      "id": "0a1cb103",
      "metadata": {
        "scrolled": true,
        "id": "0a1cb103",
        "outputId": "af8976f2-8495-4743-9c14-077aeac719da"
      },
      "outputs": [
        {
          "data": {
            "text/plain": [
              "(10299, 563)"
            ]
          },
          "execution_count": 14,
          "metadata": {},
          "output_type": "execute_result"
        }
      ],
      "source": [
        "df.shape"
      ]
    },
    {
      "cell_type": "code",
      "execution_count": null,
      "id": "0a67ae08",
      "metadata": {
        "scrolled": true,
        "id": "0a67ae08",
        "outputId": "a859e5f4-d194-47c8-debb-1353b198fa11"
      },
      "outputs": [
        {
          "data": {
            "text/html": [
              "<div>\n",
              "<style scoped>\n",
              "    .dataframe tbody tr th:only-of-type {\n",
              "        vertical-align: middle;\n",
              "    }\n",
              "\n",
              "    .dataframe tbody tr th {\n",
              "        vertical-align: top;\n",
              "    }\n",
              "\n",
              "    .dataframe thead th {\n",
              "        text-align: right;\n",
              "    }\n",
              "</style>\n",
              "<table border=\"1\" class=\"dataframe\">\n",
              "  <thead>\n",
              "    <tr style=\"text-align: right;\">\n",
              "      <th></th>\n",
              "      <th>count</th>\n",
              "      <th>mean</th>\n",
              "      <th>std</th>\n",
              "      <th>min</th>\n",
              "      <th>25%</th>\n",
              "      <th>50%</th>\n",
              "      <th>75%</th>\n",
              "      <th>max</th>\n",
              "    </tr>\n",
              "  </thead>\n",
              "  <tbody>\n",
              "    <tr>\n",
              "      <th>tBodyAcc-mean()-X</th>\n",
              "      <td>10299.0</td>\n",
              "      <td>0.274347</td>\n",
              "      <td>0.067628</td>\n",
              "      <td>-1.0</td>\n",
              "      <td>0.262625</td>\n",
              "      <td>0.277174</td>\n",
              "      <td>0.288354</td>\n",
              "      <td>1.0</td>\n",
              "    </tr>\n",
              "    <tr>\n",
              "      <th>tBodyAcc-mean()-Y</th>\n",
              "      <td>10299.0</td>\n",
              "      <td>-0.017743</td>\n",
              "      <td>0.037128</td>\n",
              "      <td>-1.0</td>\n",
              "      <td>-0.024902</td>\n",
              "      <td>-0.017162</td>\n",
              "      <td>-0.010625</td>\n",
              "      <td>1.0</td>\n",
              "    </tr>\n",
              "    <tr>\n",
              "      <th>tBodyAcc-mean()-Z</th>\n",
              "      <td>10299.0</td>\n",
              "      <td>-0.108925</td>\n",
              "      <td>0.053033</td>\n",
              "      <td>-1.0</td>\n",
              "      <td>-0.121019</td>\n",
              "      <td>-0.108596</td>\n",
              "      <td>-0.097589</td>\n",
              "      <td>1.0</td>\n",
              "    </tr>\n",
              "    <tr>\n",
              "      <th>tBodyAcc-std()-X</th>\n",
              "      <td>10299.0</td>\n",
              "      <td>-0.607784</td>\n",
              "      <td>0.438694</td>\n",
              "      <td>-1.0</td>\n",
              "      <td>-0.992360</td>\n",
              "      <td>-0.943030</td>\n",
              "      <td>-0.250293</td>\n",
              "      <td>1.0</td>\n",
              "    </tr>\n",
              "    <tr>\n",
              "      <th>tBodyAcc-std()-Y</th>\n",
              "      <td>10299.0</td>\n",
              "      <td>-0.510191</td>\n",
              "      <td>0.500240</td>\n",
              "      <td>-1.0</td>\n",
              "      <td>-0.976990</td>\n",
              "      <td>-0.835032</td>\n",
              "      <td>-0.057336</td>\n",
              "      <td>1.0</td>\n",
              "    </tr>\n",
              "    <tr>\n",
              "      <th>...</th>\n",
              "      <td>...</td>\n",
              "      <td>...</td>\n",
              "      <td>...</td>\n",
              "      <td>...</td>\n",
              "      <td>...</td>\n",
              "      <td>...</td>\n",
              "      <td>...</td>\n",
              "      <td>...</td>\n",
              "    </tr>\n",
              "    <tr>\n",
              "      <th>angle(X,gravityMean)</th>\n",
              "      <td>10299.0</td>\n",
              "      <td>-0.496522</td>\n",
              "      <td>0.511158</td>\n",
              "      <td>-1.0</td>\n",
              "      <td>-0.817288</td>\n",
              "      <td>-0.715631</td>\n",
              "      <td>-0.521503</td>\n",
              "      <td>1.0</td>\n",
              "    </tr>\n",
              "    <tr>\n",
              "      <th>angle(Y,gravityMean)</th>\n",
              "      <td>10299.0</td>\n",
              "      <td>0.063255</td>\n",
              "      <td>0.305468</td>\n",
              "      <td>-1.0</td>\n",
              "      <td>0.002151</td>\n",
              "      <td>0.182028</td>\n",
              "      <td>0.250790</td>\n",
              "      <td>1.0</td>\n",
              "    </tr>\n",
              "    <tr>\n",
              "      <th>angle(Z,gravityMean)</th>\n",
              "      <td>10299.0</td>\n",
              "      <td>-0.054284</td>\n",
              "      <td>0.268898</td>\n",
              "      <td>-1.0</td>\n",
              "      <td>-0.131880</td>\n",
              "      <td>-0.003882</td>\n",
              "      <td>0.102970</td>\n",
              "      <td>1.0</td>\n",
              "    </tr>\n",
              "    <tr>\n",
              "      <th>subject</th>\n",
              "      <td>10299.0</td>\n",
              "      <td>16.146422</td>\n",
              "      <td>8.679067</td>\n",
              "      <td>1.0</td>\n",
              "      <td>9.000000</td>\n",
              "      <td>17.000000</td>\n",
              "      <td>24.000000</td>\n",
              "      <td>30.0</td>\n",
              "    </tr>\n",
              "    <tr>\n",
              "      <th>Activity</th>\n",
              "      <td>10299.0</td>\n",
              "      <td>3.347315</td>\n",
              "      <td>1.689671</td>\n",
              "      <td>1.0</td>\n",
              "      <td>2.000000</td>\n",
              "      <td>3.000000</td>\n",
              "      <td>5.000000</td>\n",
              "      <td>6.0</td>\n",
              "    </tr>\n",
              "  </tbody>\n",
              "</table>\n",
              "<p>563 rows × 8 columns</p>\n",
              "</div>"
            ],
            "text/plain": [
              "                        count       mean       std  min       25%        50%  \\\n",
              "tBodyAcc-mean()-X     10299.0   0.274347  0.067628 -1.0  0.262625   0.277174   \n",
              "tBodyAcc-mean()-Y     10299.0  -0.017743  0.037128 -1.0 -0.024902  -0.017162   \n",
              "tBodyAcc-mean()-Z     10299.0  -0.108925  0.053033 -1.0 -0.121019  -0.108596   \n",
              "tBodyAcc-std()-X      10299.0  -0.607784  0.438694 -1.0 -0.992360  -0.943030   \n",
              "tBodyAcc-std()-Y      10299.0  -0.510191  0.500240 -1.0 -0.976990  -0.835032   \n",
              "...                       ...        ...       ...  ...       ...        ...   \n",
              "angle(X,gravityMean)  10299.0  -0.496522  0.511158 -1.0 -0.817288  -0.715631   \n",
              "angle(Y,gravityMean)  10299.0   0.063255  0.305468 -1.0  0.002151   0.182028   \n",
              "angle(Z,gravityMean)  10299.0  -0.054284  0.268898 -1.0 -0.131880  -0.003882   \n",
              "subject               10299.0  16.146422  8.679067  1.0  9.000000  17.000000   \n",
              "Activity              10299.0   3.347315  1.689671  1.0  2.000000   3.000000   \n",
              "\n",
              "                            75%   max  \n",
              "tBodyAcc-mean()-X      0.288354   1.0  \n",
              "tBodyAcc-mean()-Y     -0.010625   1.0  \n",
              "tBodyAcc-mean()-Z     -0.097589   1.0  \n",
              "tBodyAcc-std()-X      -0.250293   1.0  \n",
              "tBodyAcc-std()-Y      -0.057336   1.0  \n",
              "...                         ...   ...  \n",
              "angle(X,gravityMean)  -0.521503   1.0  \n",
              "angle(Y,gravityMean)   0.250790   1.0  \n",
              "angle(Z,gravityMean)   0.102970   1.0  \n",
              "subject               24.000000  30.0  \n",
              "Activity               5.000000   6.0  \n",
              "\n",
              "[563 rows x 8 columns]"
            ]
          },
          "execution_count": 15,
          "metadata": {},
          "output_type": "execute_result"
        }
      ],
      "source": [
        "df.describe(include='all').T #Descriptive analysis"
      ]
    },
    {
      "cell_type": "code",
      "execution_count": null,
      "id": "fc7b9e7d",
      "metadata": {
        "id": "fc7b9e7d",
        "outputId": "6d4d32cd-3181-4af5-9454-304696f63928"
      },
      "outputs": [
        {
          "data": {
            "text/plain": [
              "(6,)"
            ]
          },
          "execution_count": 16,
          "metadata": {},
          "output_type": "execute_result"
        }
      ],
      "source": [
        "df['Activity'].value_counts().shape"
      ]
    },
    {
      "cell_type": "code",
      "execution_count": null,
      "id": "d5a25a4b",
      "metadata": {
        "scrolled": false,
        "id": "d5a25a4b",
        "outputId": "c59527cb-de54-481a-be2d-7a66796cbd68"
      },
      "outputs": [
        {
          "data": {
            "text/plain": [
              "3    1944\n",
              "1    1906\n",
              "2    1777\n",
              "Name: Activity, dtype: int64"
            ]
          },
          "execution_count": 17,
          "metadata": {},
          "output_type": "execute_result"
        }
      ],
      "source": [
        "df['Activity'].value_counts().head(3)\n"
      ]
    },
    {
      "cell_type": "markdown",
      "id": "e0954bb6",
      "metadata": {
        "id": "e0954bb6"
      },
      "source": [
        ""
      ]
    },
    {
      "cell_type": "code",
      "execution_count": null,
      "id": "9fd65819",
      "metadata": {
        "id": "9fd65819"
      },
      "outputs": [],
      "source": [
        "count_of_each_activity = np.array(df.value_counts())"
      ]
    },
    {
      "cell_type": "code",
      "execution_count": null,
      "id": "a4884a69",
      "metadata": {
        "scrolled": false,
        "id": "a4884a69",
        "outputId": "36948032-d192-4b45-a6d2-0ca95f514226"
      },
      "outputs": [
        {
          "data": {
            "image/png": "[encoded data removed]",
            "text/plain": [
              "<Figure size 720x432 with 1 Axes>"
            ]
          },
          "metadata": {},
          "output_type": "display_data"
        }
      ],
      "source": [
        "# Histogram analysis Count and Age\n",
        "plt.figure(figsize=(10,6))\n",
        "df.groupby('Activity')['subject'].hist(legend=True)\n",
        "plt.xlabel('Activity')\n",
        "plt.ylabel('subject')\n",
        "plt.show()\n"
      ]
    },
    {
      "cell_type": "code",
      "execution_count": null,
      "id": "f661b397",
      "metadata": {
        "scrolled": false,
        "id": "f661b397",
        "outputId": "b06686b8-9952-4698-c332-db1d62143526"
      },
      "outputs": [
        {
          "data": {
            "text/plain": [
              "<BarContainer object of 3 artists>"
            ]
          },
          "execution_count": 52,
          "metadata": {},
          "output_type": "execute_result"
        },
        {
          "data": {
            "image/png": "[encoded data removed]",
            "text/plain": [
              "<Figure size 864x576 with 1 Axes>"
            ]
          },
          "metadata": {},
          "output_type": "display_data"
        }
      ],
      "source": [
        "Acc = 0\n",
        "Gyro = 0\n",
        "other = 0\n",
        "for value in df.columns:\n",
        "    if \"Acc\" in str(value):\n",
        "        Acc += 1\n",
        "    elif \"Gyro\" in str(value):\n",
        "        Gyro += 1\n",
        "    else:\n",
        "        other += 1\n",
        "plt.figure(figsize=(12,8))\n",
        "plt.bar(['Accelerometer', 'Gyroscope', 'Others'],[Acc,Gyro,other],color=('b','y','g'))"
      ]
    },
    {
      "cell_type": "code",
      "execution_count": null,
      "id": "e77ff787",
      "metadata": {
        "scrolled": false,
        "id": "e77ff787",
        "outputId": "11a0009c-793a-4773-d455-928c122004b7"
      },
      "outputs": [
        {
          "data": {
            "text/plain": [
              "[]"
            ]
          },
          "execution_count": 38,
          "metadata": {},
          "output_type": "execute_result"
        },
        {
          "data": {
            "image/png": "[encoded data removed]",
            "text/plain": [
              "<Figure size 1296x648 with 1 Axes>"
            ]
          },
          "metadata": {},
          "output_type": "display_data"
        }
      ],
      "source": [
        "sns.set_style('whitegrid')\n",
        "plt.figure(figsize=(18,9))\n",
        "plt.title('Observations per User', fontsize=20)\n",
        "sns.countplot(x='subject', hue='Activity', data=df)\n",
        "plt.plot()\n",
        "#1 is for Standing\n",
        "#2 is for Sitting\n",
        "#3 is for Laying\n",
        "#4 is for Walking\n",
        "#5 is for Walking_Upstair\n",
        "#6 is for Walking_Downstair\n"
      ]
    },
    {
      "cell_type": "markdown",
      "id": "6ed493e7",
      "metadata": {
        "id": "6ed493e7"
      },
      "source": [
        "# Data Interpretation"
      ]
    },
    {
      "cell_type": "code",
      "execution_count": null,
      "id": "350961a5",
      "metadata": {
        "id": "350961a5"
      },
      "outputs": [],
      "source": [
        "This dataset contains 10299 records.\n",
        "There are no null values and all the values are numeric.\n",
        "The dataset consists of accelerometer and gyroscope sensor values for each record.\n",
        "Each column has a subject number and activity which defines the type of activity.\n",
        "Each activity is mapped to a specific number.\n",
        "STANDING: 1, SITTING:2, LAYING:3, WALKING:4, WALKING_DOWNSTAIRS:5, WALKING_UPSTAIRS:6"
      ]
    },
    {
      "cell_type": "code",
      "execution_count": null,
      "id": "aace37e5",
      "metadata": {
        "id": "aace37e5"
      },
      "outputs": [],
      "source": [
        "df.to_csv('Cleaned_data.csv')"
      ]
    },
    {
      "cell_type": "code",
      "execution_count": null,
      "id": "34c22cb5",
      "metadata": {
        "scrolled": true,
        "id": "34c22cb5",
        "outputId": "ab86dad4-6897-48e4-a17b-2cfb55b77f8d"
      },
      "outputs": [
        {
          "data": {
            "text/plain": [
              "(10299, 563)"
            ]
          },
          "execution_count": 48,
          "metadata": {},
          "output_type": "execute_result"
        }
      ],
      "source": [
        "df.shape"
      ]
    }
  ],
  "metadata": {
    "kernelspec": {
      "display_name": "Python 3",
      "language": "python",
      "name": "python3"
    },
    "language_info": {
      "codemirror_mode": {
        "name": "ipython",
        "version": 3
      },
      "file_extension": ".py",
      "mimetype": "text/x-python",
      "name": "python",
      "nbconvert_exporter": "python",
      "pygments_lexer": "ipython3",
      "version": "3.8.8"
    },
    "colab": {
      "name": "P1 - 19303.ipynb",
      "provenance": []
    }
  },
  "nbformat": 4,
  "nbformat_minor": 5
}